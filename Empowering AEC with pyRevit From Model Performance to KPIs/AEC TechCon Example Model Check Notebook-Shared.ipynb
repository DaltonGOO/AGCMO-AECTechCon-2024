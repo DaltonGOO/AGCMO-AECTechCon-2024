{
 "cells": [
  {
   "cell_type": "markdown",
   "id": "d8f238e5",
   "metadata": {},
   "source": [
    "## Creating a new SQLite database"
   ]
  },
  {
   "cell_type": "code",
   "execution_count": 44,
   "id": "5842344d",
   "metadata": {},
   "outputs": [],
   "source": [
    "# Replace 'your_database.db' with the desired path and name for your database\n",
    "db_path = r'your_database.db'\n",
    "conn = sqlite3.connect(db_path)"
   ]
  },
  {
   "cell_type": "code",
   "execution_count": 29,
   "id": "0ad856b6",
   "metadata": {},
   "outputs": [],
   "source": [
    "# SQL command to create the table\n",
    "create_table_sql = '''\n",
    "CREATE TABLE IF NOT EXISTS project_checks (\n",
    "    check_id INTEGER PRIMARY KEY AUTOINCREMENT,\n",
    "    username TEXT,\n",
    "    project_name TEXT,\n",
    "    project_number TEXT,\n",
    "    file_path TEXT,\n",
    "    revit_version TEXT,\n",
    "    check_type TEXT,\n",
    "    result_text TEXT,\n",
    "    result_number INTEGER,\n",
    "    result_boolean BOOLEAN,\n",
    "    check_timestamp DATETIME DEFAULT CURRENT_TIMESTAMP,\n",
    "    hei_central_path TEXT,\n",
    "    hei_central_path_pn TEXT,\n",
    "    hei_startpage_pn TEXT\n",
    ");\n",
    "'''\n",
    "\n",
    "# Create a cursor object and execute the SQL command\n",
    "cursor = conn.cursor()\n",
    "cursor.execute(create_table_sql)\n",
    "\n",
    "# Commit the changes\n",
    "conn.commit()\n"
   ]
  },
  {
   "cell_type": "markdown",
   "id": "3540c9f4",
   "metadata": {},
   "source": [
    "## Table Info"
   ]
  },
  {
   "cell_type": "code",
   "execution_count": 45,
   "id": "5410bc7a",
   "metadata": {},
   "outputs": [
    {
     "name": "stdout",
     "output_type": "stream",
     "text": [
      "Column Name: check_id, Data Type: INTEGER\n",
      "Column Name: username, Data Type: TEXT\n",
      "Column Name: project_name, Data Type: TEXT\n",
      "Column Name: project_number, Data Type: TEXT\n",
      "Column Name: file_path, Data Type: TEXT\n",
      "Column Name: revit_version, Data Type: TEXT\n",
      "Column Name: check_type, Data Type: TEXT\n",
      "Column Name: result_text, Data Type: TEXT\n",
      "Column Name: result_number, Data Type: INTEGER\n",
      "Column Name: result_boolean, Data Type: BOOLEAN\n",
      "Column Name: check_timestamp, Data Type: DATETIME\n",
      "Column Name: hei_central_path, Data Type: TEXT\n",
      "Column Name: hei_central_path_pn, Data Type: TEXT\n",
      "Column Name: hei_startpage_pn, Data Type: TEXT\n"
     ]
    }
   ],
   "source": [
    "\n",
    "cursor = conn.cursor()\n",
    "\n",
    "# Execute PRAGMA table_info() to get table info\n",
    "cursor.execute(f\"PRAGMA table_info(project_checks);\")\n",
    "\n",
    "columns = cursor.fetchall()\n",
    "for col in columns:\n",
    "    print(f\"Column Name: {col[1]}, Data Type: {col[2]}\")\n",
    "\n",
    "conn.close()\n"
   ]
  },
  {
   "cell_type": "markdown",
   "id": "2a43a520",
   "metadata": {},
   "source": [
    "## Add column to db"
   ]
  },
  {
   "cell_type": "code",
   "execution_count": 11,
   "id": "47860796",
   "metadata": {},
   "outputs": [],
   "source": [
    "# Here's how you can modify your existing code to add a column to your SQLite table using Jupyter Notebook\n",
    "import sqlite3\n",
    "# Replace 'your_database.db' with the desired path and name for your database\n",
    "db_path = r'your_database.db'\n",
    "\n",
    "conn = sqlite3.connect(db_path)\n",
    "cursor = conn.cursor()\n",
    "\n",
    "# SQL statement to add a new column (replace new_column_name and column_type with actual values)\n",
    "alter_table_query = \"ALTER TABLE project_checks ADD COLUMN hei_central_path_pn TEXT;\"\n",
    "\n",
    "# Execute the query to add the new column\n",
    "cursor.execute(alter_table_query)\n",
    "\n",
    "# Commit the changes to the database\n",
    "conn.commit()\n",
    "\n",
    "# Close the database connection\n",
    "conn.close()\n"
   ]
  },
  {
   "cell_type": "markdown",
   "id": "37d1df2a",
   "metadata": {},
   "source": [
    "## Drop column from db"
   ]
  },
  {
   "cell_type": "code",
   "execution_count": 10,
   "id": "49779c06",
   "metadata": {},
   "outputs": [],
   "source": [
    "# Here's how you can modify your existing code to add a column to your SQLite table using Jupyter Notebook\n",
    "import sqlite3\n",
    "# Replace 'your_database.db' with the desired path and name for your database\n",
    "db_path = r'your_database.db'\n",
    "\n",
    "conn = sqlite3.connect(db_path)\n",
    "cursor = conn.cursor()\n",
    "\n",
    "alter_table_query = \"ALTER TABLE project_checks DROP COLUMN hei_central_path_pn\";\n",
    "\n",
    "\n",
    "# Execute the query to add the new column\n",
    "cursor.execute(alter_table_query)\n",
    "\n",
    "# Commit the changes to the database\n",
    "conn.commit()\n",
    "\n",
    "# Close the database connection\n",
    "conn.close()\n"
   ]
  },
  {
   "cell_type": "markdown",
   "id": "e97e0bb0",
   "metadata": {},
   "source": [
    "## Connect to SQLite database and print data"
   ]
  },
  {
   "cell_type": "code",
   "execution_count": null,
   "id": "6a25a37f",
   "metadata": {
    "scrolled": true
   },
   "outputs": [],
   "source": [
    "import sqlite3\n",
    "\n",
    "# Replace 'your_database.db' with the desired path and name for your database\n",
    "db_path = r'your_database.db'\n",
    "\n",
    "# Connect to the SQLite database\n",
    "conn = sqlite3.connect(db_path)\n",
    "cursor = conn.cursor()\n",
    "\n",
    "\n",
    "# Query to select data\n",
    "query = \"SELECT * FROM project_checks\"\n",
    "cursor.execute(query)\n",
    "\n",
    "# Fetch and print all rows of data\n",
    "rows = cursor.fetchall()\n",
    "for row in rows:\n",
    "    print(row)\n",
    "\n",
    "# Close the connection\n",
    "conn.close()"
   ]
  }
 ],
 "metadata": {
  "kernelspec": {
   "display_name": "Python 3",
   "language": "python",
   "name": "python3"
  },
  "language_info": {
   "codemirror_mode": {
    "name": "ipython",
    "version": 3
   },
   "file_extension": ".py",
   "mimetype": "text/x-python",
   "name": "python",
   "nbconvert_exporter": "python",
   "pygments_lexer": "ipython3",
   "version": "3.8.8"
  }
 },
 "nbformat": 4,
 "nbformat_minor": 5
}
